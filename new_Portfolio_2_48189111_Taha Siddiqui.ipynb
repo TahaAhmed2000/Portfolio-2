{
 "cells": [
  {
   "cell_type": "markdown",
   "id": "Z88FfJc9lA_T",
   "metadata": {
    "id": "Z88FfJc9lA_T"
   },
   "source": [
    "## Analysis of an E-commerce Dataset Part 2"
   ]
  },
  {
   "cell_type": "markdown",
   "id": "hoq0NwA9lA_V",
   "metadata": {
    "id": "hoq0NwA9lA_V"
   },
   "source": [
    "The goal of the second analysis task is to train linear regression models to predict users' ratings towards items. This involves a standard Data Science workflow: exploring data, building models, making predictions, and evaluating results. In this task, we will explore the impacts of feature selections and different sizes of training/testing data on the model performance. We will use another cleaned combined e-commerce sub-dataset that **is different from** the one in “Analysis of an E-commerce Dataset” task 1."
   ]
  },
  {
   "cell_type": "markdown",
   "id": "f9fd3NU_lA_W",
   "metadata": {
    "id": "f9fd3NU_lA_W"
   },
   "source": [
    "### Import Cleaned E-commerce Dataset\n",
    "The csv file named 'cleaned_ecommerce_dataset.csv' is provided. You may need to use the Pandas method, i.e., `read_csv`, for reading it. After that, please print out its total length."
   ]
  },
  {
   "cell_type": "markdown",
   "id": "22858941",
   "metadata": {},
   "source": [
    "<h1><b>Compiled and Created by : TAHA AHMED SIDDIQUI | 48189111</b></h1>"
   ]
  },
  {
   "cell_type": "code",
   "execution_count": 2,
   "id": "5d7ffa94",
   "metadata": {},
   "outputs": [],
   "source": [
    "import numpy as np\n",
    "import pandas as pd\n",
    "import matplotlib.pyplot as plt\n",
    "%matplotlib inline"
   ]
  },
  {
   "cell_type": "code",
   "execution_count": 5,
   "id": "PJrb2gtAlA_W",
   "metadata": {
    "id": "PJrb2gtAlA_W"
   },
   "outputs": [],
   "source": [
    "# Read dataset\n",
    "df = pd.read_csv('C:/Users/BEYOND/Downloads/Portfolio part 2 resources-20240329/cleaned_ecommerce_dataset.csv', index_col=0)"
   ]
  },
  {
   "cell_type": "code",
   "execution_count": 6,
   "id": "6aa05d6b",
   "metadata": {},
   "outputs": [
    {
     "data": {
      "text/html": [
       "<div>\n",
       "<style scoped>\n",
       "    .dataframe tbody tr th:only-of-type {\n",
       "        vertical-align: middle;\n",
       "    }\n",
       "\n",
       "    .dataframe tbody tr th {\n",
       "        vertical-align: top;\n",
       "    }\n",
       "\n",
       "    .dataframe thead th {\n",
       "        text-align: right;\n",
       "    }\n",
       "</style>\n",
       "<table border=\"1\" class=\"dataframe\">\n",
       "  <thead>\n",
       "    <tr style=\"text-align: right;\">\n",
       "      <th></th>\n",
       "      <th>timestamp</th>\n",
       "      <th>review</th>\n",
       "      <th>item</th>\n",
       "      <th>rating</th>\n",
       "      <th>helpfulness</th>\n",
       "      <th>gender</th>\n",
       "      <th>category</th>\n",
       "      <th>item_id</th>\n",
       "      <th>item_price</th>\n",
       "      <th>user_city</th>\n",
       "    </tr>\n",
       "    <tr>\n",
       "      <th>userId</th>\n",
       "      <th></th>\n",
       "      <th></th>\n",
       "      <th></th>\n",
       "      <th></th>\n",
       "      <th></th>\n",
       "      <th></th>\n",
       "      <th></th>\n",
       "      <th></th>\n",
       "      <th></th>\n",
       "      <th></th>\n",
       "    </tr>\n",
       "  </thead>\n",
       "  <tbody>\n",
       "    <tr>\n",
       "      <th>4081</th>\n",
       "      <td>71900</td>\n",
       "      <td>Not always McCrap</td>\n",
       "      <td>McDonald's</td>\n",
       "      <td>4.0</td>\n",
       "      <td>3.0</td>\n",
       "      <td>M</td>\n",
       "      <td>Restaurants &amp; Gourmet</td>\n",
       "      <td>41</td>\n",
       "      <td>30.74</td>\n",
       "      <td>4</td>\n",
       "    </tr>\n",
       "    <tr>\n",
       "      <th>4081</th>\n",
       "      <td>72000</td>\n",
       "      <td>I dropped the chalupa even before he told me to</td>\n",
       "      <td>Taco Bell</td>\n",
       "      <td>1.0</td>\n",
       "      <td>4.0</td>\n",
       "      <td>M</td>\n",
       "      <td>Restaurants &amp; Gourmet</td>\n",
       "      <td>74</td>\n",
       "      <td>108.30</td>\n",
       "      <td>4</td>\n",
       "    </tr>\n",
       "    <tr>\n",
       "      <th>4081</th>\n",
       "      <td>72000</td>\n",
       "      <td>The Wonderful World of Wendy</td>\n",
       "      <td>Wendy's</td>\n",
       "      <td>5.0</td>\n",
       "      <td>4.0</td>\n",
       "      <td>M</td>\n",
       "      <td>Restaurants &amp; Gourmet</td>\n",
       "      <td>84</td>\n",
       "      <td>69.00</td>\n",
       "      <td>4</td>\n",
       "    </tr>\n",
       "    <tr>\n",
       "      <th>4081</th>\n",
       "      <td>100399</td>\n",
       "      <td>They actually did it</td>\n",
       "      <td>South Park: Bigger, Longer &amp; Uncut</td>\n",
       "      <td>5.0</td>\n",
       "      <td>3.0</td>\n",
       "      <td>M</td>\n",
       "      <td>Movies</td>\n",
       "      <td>68</td>\n",
       "      <td>143.11</td>\n",
       "      <td>4</td>\n",
       "    </tr>\n",
       "    <tr>\n",
       "      <th>4081</th>\n",
       "      <td>100399</td>\n",
       "      <td>Hey! Gimme some pie!</td>\n",
       "      <td>American Pie</td>\n",
       "      <td>3.0</td>\n",
       "      <td>3.0</td>\n",
       "      <td>M</td>\n",
       "      <td>Movies</td>\n",
       "      <td>6</td>\n",
       "      <td>117.89</td>\n",
       "      <td>4</td>\n",
       "    </tr>\n",
       "    <tr>\n",
       "      <th>...</th>\n",
       "      <td>...</td>\n",
       "      <td>...</td>\n",
       "      <td>...</td>\n",
       "      <td>...</td>\n",
       "      <td>...</td>\n",
       "      <td>...</td>\n",
       "      <td>...</td>\n",
       "      <td>...</td>\n",
       "      <td>...</td>\n",
       "      <td>...</td>\n",
       "    </tr>\n",
       "    <tr>\n",
       "      <th>2445</th>\n",
       "      <td>22000</td>\n",
       "      <td>Great movie!</td>\n",
       "      <td>Austin Powers: The Spy Who Shagged Me</td>\n",
       "      <td>5.0</td>\n",
       "      <td>3.0</td>\n",
       "      <td>M</td>\n",
       "      <td>Movies</td>\n",
       "      <td>9</td>\n",
       "      <td>111.00</td>\n",
       "      <td>5</td>\n",
       "    </tr>\n",
       "    <tr>\n",
       "      <th>2445</th>\n",
       "      <td>30700</td>\n",
       "      <td>Good food!</td>\n",
       "      <td>Outback Steakhouse</td>\n",
       "      <td>5.0</td>\n",
       "      <td>3.0</td>\n",
       "      <td>M</td>\n",
       "      <td>Restaurants &amp; Gourmet</td>\n",
       "      <td>50</td>\n",
       "      <td>25.00</td>\n",
       "      <td>5</td>\n",
       "    </tr>\n",
       "    <tr>\n",
       "      <th>2445</th>\n",
       "      <td>61500</td>\n",
       "      <td>Great movie!</td>\n",
       "      <td>Fight Club</td>\n",
       "      <td>5.0</td>\n",
       "      <td>3.0</td>\n",
       "      <td>M</td>\n",
       "      <td>Movies</td>\n",
       "      <td>26</td>\n",
       "      <td>97.53</td>\n",
       "      <td>5</td>\n",
       "    </tr>\n",
       "    <tr>\n",
       "      <th>2445</th>\n",
       "      <td>100500</td>\n",
       "      <td>Awesome Game.</td>\n",
       "      <td>The Sims 2: Open for Business for Windows</td>\n",
       "      <td>5.0</td>\n",
       "      <td>4.0</td>\n",
       "      <td>M</td>\n",
       "      <td>Games</td>\n",
       "      <td>79</td>\n",
       "      <td>27.00</td>\n",
       "      <td>5</td>\n",
       "    </tr>\n",
       "    <tr>\n",
       "      <th>2445</th>\n",
       "      <td>101400</td>\n",
       "      <td>Great Service.</td>\n",
       "      <td>PayPal</td>\n",
       "      <td>5.0</td>\n",
       "      <td>3.0</td>\n",
       "      <td>M</td>\n",
       "      <td>Personal Finance</td>\n",
       "      <td>52</td>\n",
       "      <td>38.00</td>\n",
       "      <td>5</td>\n",
       "    </tr>\n",
       "  </tbody>\n",
       "</table>\n",
       "<p>2685 rows × 10 columns</p>\n",
       "</div>"
      ],
      "text/plain": [
       "        timestamp                                           review  \\\n",
       "userId                                                               \n",
       "4081        71900                                Not always McCrap   \n",
       "4081        72000  I dropped the chalupa even before he told me to   \n",
       "4081        72000                     The Wonderful World of Wendy   \n",
       "4081       100399                             They actually did it   \n",
       "4081       100399                             Hey! Gimme some pie!   \n",
       "...           ...                                              ...   \n",
       "2445        22000                                     Great movie!   \n",
       "2445        30700                                       Good food!   \n",
       "2445        61500                                     Great movie!   \n",
       "2445       100500                                    Awesome Game.   \n",
       "2445       101400                                   Great Service.   \n",
       "\n",
       "                                             item  rating  helpfulness gender  \\\n",
       "userId                                                                          \n",
       "4081                                   McDonald's     4.0          3.0      M   \n",
       "4081                                    Taco Bell     1.0          4.0      M   \n",
       "4081                                      Wendy's     5.0          4.0      M   \n",
       "4081           South Park: Bigger, Longer & Uncut     5.0          3.0      M   \n",
       "4081                                 American Pie     3.0          3.0      M   \n",
       "...                                           ...     ...          ...    ...   \n",
       "2445        Austin Powers: The Spy Who Shagged Me     5.0          3.0      M   \n",
       "2445                           Outback Steakhouse     5.0          3.0      M   \n",
       "2445                                   Fight Club     5.0          3.0      M   \n",
       "2445    The Sims 2: Open for Business for Windows     5.0          4.0      M   \n",
       "2445                                       PayPal     5.0          3.0      M   \n",
       "\n",
       "                     category  item_id  item_price  user_city  \n",
       "userId                                                         \n",
       "4081    Restaurants & Gourmet       41       30.74          4  \n",
       "4081    Restaurants & Gourmet       74      108.30          4  \n",
       "4081    Restaurants & Gourmet       84       69.00          4  \n",
       "4081                   Movies       68      143.11          4  \n",
       "4081                   Movies        6      117.89          4  \n",
       "...                       ...      ...         ...        ...  \n",
       "2445                   Movies        9      111.00          5  \n",
       "2445    Restaurants & Gourmet       50       25.00          5  \n",
       "2445                   Movies       26       97.53          5  \n",
       "2445                    Games       79       27.00          5  \n",
       "2445         Personal Finance       52       38.00          5  \n",
       "\n",
       "[2685 rows x 10 columns]"
      ]
     },
     "execution_count": 6,
     "metadata": {},
     "output_type": "execute_result"
    }
   ],
   "source": [
    "df"
   ]
  },
  {
   "cell_type": "code",
   "execution_count": 15,
   "id": "5fcf9786",
   "metadata": {},
   "outputs": [
    {
     "name": "stdout",
     "output_type": "stream",
     "text": [
      "(2685, 10)\n"
     ]
    }
   ],
   "source": [
    "# Print the total number of rows and coloumns in the DataFrame (length)\n",
    "print(df.shape)"
   ]
  },
  {
   "cell_type": "markdown",
   "id": "aqbuU6rglA_X",
   "metadata": {
    "id": "aqbuU6rglA_X"
   },
   "source": [
    "### Explore the Dataset\n",
    "\n",
    "* Use the methods, i.e., `head()` and `info()`, to have a rough picture about the data, e.g., how many columns, and the data types of each column.\n",
    "* As our goal is to predict ratings given other columns, please get the correlations between helpfulness/gender/category/review and rating by using the `corr()` method.\n",
    "\n",
    "  Hints: To get the correlations between different features, you may need to first convert the categorical features (i.e., gender, category and review) into numerial values. For doing this, you may need to import `OrdinalEncoder` from `sklearn.preprocessing` (refer to the useful exmaples [here](https://pbpython.com/categorical-encoding.html))\n",
    "* Please provide ___necessary explanations/analysis___ on the correlations, and figure out which are the ___most___ and ___least___ corrleated features regarding rating. Try to ___discuss___ how the correlation will affect the final prediction results, if we use these features to train a regression model for rating prediction. In what follows, we will conduct experiments to verify your hypothesis."
   ]
  },
  {
   "cell_type": "code",
   "execution_count": 7,
   "id": "W3PImHiElA_X",
   "metadata": {
    "id": "W3PImHiElA_X"
   },
   "outputs": [
    {
     "data": {
      "text/html": [
       "<div>\n",
       "<style scoped>\n",
       "    .dataframe tbody tr th:only-of-type {\n",
       "        vertical-align: middle;\n",
       "    }\n",
       "\n",
       "    .dataframe tbody tr th {\n",
       "        vertical-align: top;\n",
       "    }\n",
       "\n",
       "    .dataframe thead th {\n",
       "        text-align: right;\n",
       "    }\n",
       "</style>\n",
       "<table border=\"1\" class=\"dataframe\">\n",
       "  <thead>\n",
       "    <tr style=\"text-align: right;\">\n",
       "      <th></th>\n",
       "      <th>timestamp</th>\n",
       "      <th>review</th>\n",
       "      <th>item</th>\n",
       "      <th>rating</th>\n",
       "      <th>helpfulness</th>\n",
       "      <th>gender</th>\n",
       "      <th>category</th>\n",
       "      <th>item_id</th>\n",
       "      <th>item_price</th>\n",
       "      <th>user_city</th>\n",
       "    </tr>\n",
       "    <tr>\n",
       "      <th>userId</th>\n",
       "      <th></th>\n",
       "      <th></th>\n",
       "      <th></th>\n",
       "      <th></th>\n",
       "      <th></th>\n",
       "      <th></th>\n",
       "      <th></th>\n",
       "      <th></th>\n",
       "      <th></th>\n",
       "      <th></th>\n",
       "    </tr>\n",
       "  </thead>\n",
       "  <tbody>\n",
       "    <tr>\n",
       "      <th>4081</th>\n",
       "      <td>71900</td>\n",
       "      <td>Not always McCrap</td>\n",
       "      <td>McDonald's</td>\n",
       "      <td>4.0</td>\n",
       "      <td>3.0</td>\n",
       "      <td>M</td>\n",
       "      <td>Restaurants &amp; Gourmet</td>\n",
       "      <td>41</td>\n",
       "      <td>30.74</td>\n",
       "      <td>4</td>\n",
       "    </tr>\n",
       "    <tr>\n",
       "      <th>4081</th>\n",
       "      <td>72000</td>\n",
       "      <td>I dropped the chalupa even before he told me to</td>\n",
       "      <td>Taco Bell</td>\n",
       "      <td>1.0</td>\n",
       "      <td>4.0</td>\n",
       "      <td>M</td>\n",
       "      <td>Restaurants &amp; Gourmet</td>\n",
       "      <td>74</td>\n",
       "      <td>108.30</td>\n",
       "      <td>4</td>\n",
       "    </tr>\n",
       "    <tr>\n",
       "      <th>4081</th>\n",
       "      <td>72000</td>\n",
       "      <td>The Wonderful World of Wendy</td>\n",
       "      <td>Wendy's</td>\n",
       "      <td>5.0</td>\n",
       "      <td>4.0</td>\n",
       "      <td>M</td>\n",
       "      <td>Restaurants &amp; Gourmet</td>\n",
       "      <td>84</td>\n",
       "      <td>69.00</td>\n",
       "      <td>4</td>\n",
       "    </tr>\n",
       "    <tr>\n",
       "      <th>4081</th>\n",
       "      <td>100399</td>\n",
       "      <td>They actually did it</td>\n",
       "      <td>South Park: Bigger, Longer &amp; Uncut</td>\n",
       "      <td>5.0</td>\n",
       "      <td>3.0</td>\n",
       "      <td>M</td>\n",
       "      <td>Movies</td>\n",
       "      <td>68</td>\n",
       "      <td>143.11</td>\n",
       "      <td>4</td>\n",
       "    </tr>\n",
       "    <tr>\n",
       "      <th>4081</th>\n",
       "      <td>100399</td>\n",
       "      <td>Hey! Gimme some pie!</td>\n",
       "      <td>American Pie</td>\n",
       "      <td>3.0</td>\n",
       "      <td>3.0</td>\n",
       "      <td>M</td>\n",
       "      <td>Movies</td>\n",
       "      <td>6</td>\n",
       "      <td>117.89</td>\n",
       "      <td>4</td>\n",
       "    </tr>\n",
       "  </tbody>\n",
       "</table>\n",
       "</div>"
      ],
      "text/plain": [
       "        timestamp                                           review  \\\n",
       "userId                                                               \n",
       "4081        71900                                Not always McCrap   \n",
       "4081        72000  I dropped the chalupa even before he told me to   \n",
       "4081        72000                     The Wonderful World of Wendy   \n",
       "4081       100399                             They actually did it   \n",
       "4081       100399                             Hey! Gimme some pie!   \n",
       "\n",
       "                                      item  rating  helpfulness gender  \\\n",
       "userId                                                                   \n",
       "4081                            McDonald's     4.0          3.0      M   \n",
       "4081                             Taco Bell     1.0          4.0      M   \n",
       "4081                               Wendy's     5.0          4.0      M   \n",
       "4081    South Park: Bigger, Longer & Uncut     5.0          3.0      M   \n",
       "4081                          American Pie     3.0          3.0      M   \n",
       "\n",
       "                     category  item_id  item_price  user_city  \n",
       "userId                                                         \n",
       "4081    Restaurants & Gourmet       41       30.74          4  \n",
       "4081    Restaurants & Gourmet       74      108.30          4  \n",
       "4081    Restaurants & Gourmet       84       69.00          4  \n",
       "4081                   Movies       68      143.11          4  \n",
       "4081                   Movies        6      117.89          4  "
      ]
     },
     "execution_count": 7,
     "metadata": {},
     "output_type": "execute_result"
    }
   ],
   "source": [
    "df.head()"
   ]
  },
  {
   "cell_type": "code",
   "execution_count": 8,
   "id": "ac1fa9da",
   "metadata": {},
   "outputs": [
    {
     "name": "stdout",
     "output_type": "stream",
     "text": [
      "<class 'pandas.core.frame.DataFrame'>\n",
      "Int64Index: 2685 entries, 4081 to 2445\n",
      "Data columns (total 10 columns):\n",
      " #   Column       Non-Null Count  Dtype  \n",
      "---  ------       --------------  -----  \n",
      " 0   timestamp    2685 non-null   int64  \n",
      " 1   review       2685 non-null   object \n",
      " 2   item         2685 non-null   object \n",
      " 3   rating       2685 non-null   float64\n",
      " 4   helpfulness  2685 non-null   float64\n",
      " 5   gender       2685 non-null   object \n",
      " 6   category     2685 non-null   object \n",
      " 7   item_id      2685 non-null   int64  \n",
      " 8   item_price   2685 non-null   float64\n",
      " 9   user_city    2685 non-null   int64  \n",
      "dtypes: float64(3), int64(3), object(4)\n",
      "memory usage: 230.7+ KB\n"
     ]
    }
   ],
   "source": [
    "df.info()"
   ]
  },
  {
   "cell_type": "code",
   "execution_count": 17,
   "id": "42b9dc56",
   "metadata": {},
   "outputs": [
    {
     "name": "stderr",
     "output_type": "stream",
     "text": [
      "C:\\Users\\BEYOND\\anaconda3\\lib\\site-packages\\scipy\\__init__.py:146: UserWarning: A NumPy version >=1.16.5 and <1.23.0 is required for this version of SciPy (detected version 1.23.0\n",
      "  warnings.warn(f\"A NumPy version >={np_minversion} and <{np_maxversion}\"\n"
     ]
    }
   ],
   "source": [
    "from sklearn.preprocessing import OrdinalEncoder"
   ]
  },
  {
   "cell_type": "code",
   "execution_count": 18,
   "id": "260c1755",
   "metadata": {},
   "outputs": [],
   "source": [
    "# Encode categorical features (gender, category, review) using OrdinalEncoder\n",
    "encoder = OrdinalEncoder()\n",
    "df[\"gender\"] = encoder.fit_transform(df[[\"gender\"]])\n",
    "df[\"category\"] = encoder.fit_transform(df[[\"category\"]])\n",
    "df[\"review\"] = encoder.fit_transform(df[[\"review\"]])"
   ]
  },
  {
   "cell_type": "code",
   "execution_count": 19,
   "id": "d35ac2b8",
   "metadata": {},
   "outputs": [
    {
     "name": "stdout",
     "output_type": "stream",
     "text": [
      "             helpfulness    gender  category    review    rating\n",
      "helpfulness     1.000000  0.075947 -0.013408 -0.028259 -0.007523\n",
      "gender          0.075947  1.000000  0.022549 -0.037884 -0.034337\n",
      "category       -0.013408  0.022549  1.000000  0.001970 -0.163158\n",
      "review         -0.028259 -0.037884  0.001970  1.000000 -0.036118\n",
      "rating         -0.007523 -0.034337 -0.163158 -0.036118  1.000000\n"
     ]
    }
   ],
   "source": [
    "# Calculate correlations between features and rating\n",
    "correlations = df[[\"helpfulness\", \"gender\", \"category\", \"review\", \"rating\"]].corr()\n",
    "\n",
    "# Print the correlation matrix\n",
    "print(correlations)"
   ]
  },
  {
   "cell_type": "markdown",
   "id": "5caffcdb",
   "metadata": {},
   "source": [
    "<h1>Discussion:</h1>\n",
    "<ul><li>Most correlated feature:\n",
    "\n",
    "The \"category\" feature has the highest negative correlation with the \"rating\" variable, with a correlation coefficient of approximately -0.163. This indicates that there's a moderate negative correlation between the category of the product and its rating.</li>\n",
    "<li>Least correlated feature:\n",
    "\n",
    "The \"helpfulness\" feature has the least correlation with the \"rating\" variable, with a correlation coefficient of approximately -0.0075. This suggests that there's a very weak correlation between the helpfulness of the review and the rating of the product.</li></ul>\n",
    "\n",
    "<h2>Impact on Prediction Results:</h2>\n",
    "<ul><li>\n",
    "When training a regression model for rating prediction, including highly correlated features like \"category\" can improve the model's predictive power. By capturing the relationship between product categories and ratings, the model can make more accurate predictions for products within those categories.</li><li>\n",
    "Conversely, including features like \"helpfulness,\" which have weak correlations with the target variable, might not contribute much to the model's performance. In fact, it could potentially lead to overfitting if the model tries to learn noise in the data.</li></ul>\n",
    "\n",
    "<h2>Experimental Verification:</h2>\n",
    "<ul><li>\n",
    "To verify these hypotheses, we can conduct experiments by building regression models with different combinations of features, including or excluding \"category\" and \"helpfulness.\"</li><li>\n",
    "We can evaluate the models using appropriate metrics such as mean squared error (MSE) to compare their performance.</li></ul>"
   ]
  },
  {
   "cell_type": "markdown",
   "id": "4myP5igslA_Y",
   "metadata": {
    "id": "4myP5igslA_Y"
   },
   "source": [
    "### Split Training and Testing Data\n",
    "* Machine learning models are trained to help make predictions for the future. Normally, we need to randomly split the dataset into training and testing sets, where we use the training set to train the model, and then leverage the well-trained model to make predictions on the testing set.\n",
    "* To further investigate whether the size of the training/testing data affects the model performance, please random split the data into training and testing sets with different sizes:\n",
    "    * Case 1: training data containing 10% of the entire data;\n",
    "    * Case 2: training data containing 90% of the entire data.\n",
    "* Print the shape of training and testing sets in the two cases."
   ]
  },
  {
   "cell_type": "code",
   "execution_count": 26,
   "id": "49f09c74",
   "metadata": {},
   "outputs": [],
   "source": [
    "from sklearn.model_selection import train_test_split\n",
    "\n",
    "train_size1 = 0.1  # Case 1: 10% training data\n",
    "train_size2 = 0.9  # Case 2: 90% training data\n"
   ]
  },
  {
   "cell_type": "code",
   "execution_count": 30,
   "id": "JIDMig9blA_Y",
   "metadata": {
    "id": "JIDMig9blA_Y"
   },
   "outputs": [
    {
     "name": "stdout",
     "output_type": "stream",
     "text": [
      "Case 1 (Training 10%):\n",
      "X_train1 shape: (268, 9)\n",
      "y_train1 shape: (268,)\n",
      "X_test1 shape: (2417, 9)\n",
      "y_test1 shape: (2417,)\n",
      "\n",
      "\n",
      "Case 2 (Training 90%):\n",
      "X_train2 shape: (2416, 9)\n",
      "y_train2 shape: (2416,)\n",
      "X_test2 shape: (269, 9)\n",
      "y_test2 shape: (269,)\n"
     ]
    }
   ],
   "source": [
    "\n",
    "# (Case 1)\n",
    "X_train1, X_test1, y_train1, y_test1 = train_test_split(\n",
    "    df.drop(\"rating\", axis=1),  \n",
    "    df[\"rating\"],  \n",
    "    test_size=1 - train_size1, \n",
    "    random_state=42  \n",
    ")\n",
    "\n",
    "print(\"Case 1 (Training 10%):\")\n",
    "print(f\"X_train1 shape: {X_train1.shape}\")\n",
    "print(f\"y_train1 shape: {y_train1.shape}\")\n",
    "print(f\"X_test1 shape: {X_test1.shape}\")\n",
    "print(f\"y_test1 shape: {y_test1.shape}\")\n",
    "print(\"\\n\")\n",
    "\n",
    "# (Case 2)\n",
    "X_train2, X_test2, y_train2, y_test2 = train_test_split(\n",
    "    df.drop(\"rating\", axis=1),\n",
    "    df[\"rating\"],\n",
    "    test_size=1 - train_size2,\n",
    "    random_state=42\n",
    ")\n",
    "\n",
    "\n",
    "print(\"Case 2 (Training 90%):\")\n",
    "print(f\"X_train2 shape: {X_train2.shape}\")\n",
    "print(f\"y_train2 shape: {y_train2.shape}\")\n",
    "print(f\"X_test2 shape: {X_test2.shape}\")\n",
    "print(f\"y_test2 shape: {y_test2.shape}\")"
   ]
  },
  {
   "cell_type": "markdown",
   "id": "DjSsgT0BlA_Y",
   "metadata": {
    "id": "DjSsgT0BlA_Y"
   },
   "source": [
    "### Train Linear Regression Models with Feature Selection under Cases 1 & 2\n",
    "* When training a machine learning model for prediction, we may need to select the most important/correlated input features for more accurate results.\n",
    "* To investigate whether feature selection affects the model performance, please select two most correlated features and two least correlated features from helpfulness/gender/category/review regarding rating, respectively.\n",
    "* Train four linear regression models by following the conditions:\n",
    "    - (model-a) using the training/testing data in case 1 with two most correlated input features\n",
    "    - (model-b) using the training/testing data in case 1 with two least correlated input features\n",
    "    - (model-c) using the training/testing data in case 2 with two most correlated input features\n",
    "    - (model-d) using the training/testing data in case 2 with two least correlated input features\n",
    "* By doing this, we can verify the impacts of the size of traing/testing data on the model performance via comparing model-a and model-c (or model-b and model-d); meanwhile the impacts of feature selection can be validated via comparing model-a and model-b (or model-c and model-d).    "
   ]
  },
  {
   "cell_type": "code",
   "execution_count": 33,
   "id": "DASzPUATlA_Z",
   "metadata": {
    "id": "DASzPUATlA_Z"
   },
   "outputs": [
    {
     "name": "stdout",
     "output_type": "stream",
     "text": [
      "Model-a (Case 1 with two most correlated features) MSE: 1.776581354691434\n",
      "Model-b (Case 1 with two least correlated features) MSE: 1.860535990321889\n",
      "Model-c (Case 2 with two most correlated features) MSE: 1.681992500504392\n",
      "Model-d (Case 2 with two least correlated features) MSE: 1.7245375467700426\n"
     ]
    }
   ],
   "source": [
    "from sklearn.linear_model import LinearRegression\n",
    "from sklearn.metrics import mean_squared_error\n",
    "\n",
    "# Selecting features for model-a and model-c (two most correlated features)\n",
    "most_correlated_features = ['category', 'review']\n",
    "\n",
    "# Selecting features for model-b and model-d (two least correlated features)\n",
    "least_correlated_features = ['helpfulness', 'gender']\n",
    "\n",
    "# Training model-a\n",
    "model_a = LinearRegression()\n",
    "model_a.fit(X_train_case1[most_correlated_features], y_train_case1)\n",
    "\n",
    "# Training model-b\n",
    "model_b = LinearRegression()\n",
    "model_b.fit(X_train_case1[least_correlated_features], y_train_case1)\n",
    "\n",
    "# Training model-c\n",
    "model_c = LinearRegression()\n",
    "model_c.fit(X_train_case2[most_correlated_features], y_train_case2)\n",
    "\n",
    "# Training model-d\n",
    "model_d = LinearRegression()\n",
    "model_d.fit(X_train_case2[least_correlated_features], y_train_case2)\n",
    "\n",
    "# Make predictions\n",
    "y_pred_a = model_a.predict(X_test_case1[most_correlated_features])\n",
    "y_pred_b = model_b.predict(X_test_case1[least_correlated_features])\n",
    "y_pred_c = model_c.predict(X_test_case2[most_correlated_features])\n",
    "y_pred_d = model_d.predict(X_test_case2[least_correlated_features])\n",
    "\n",
    "# Evaluate the models\n",
    "mse_a = mean_squared_error(y_test_case1, y_pred_a)\n",
    "mse_b = mean_squared_error(y_test_case1, y_pred_b)\n",
    "mse_c = mean_squared_error(y_test_case2, y_pred_c)\n",
    "mse_d = mean_squared_error(y_test_case2, y_pred_d)\n",
    "\n",
    "print(\"Model-a (Case 1 with two most correlated features) MSE:\", mse_a)\n",
    "print(\"Model-b (Case 1 with two least correlated features) MSE:\", mse_b)\n",
    "print(\"Model-c (Case 2 with two most correlated features) MSE:\", mse_c)\n",
    "print(\"Model-d (Case 2 with two least correlated features) MSE:\", mse_d)\n"
   ]
  },
  {
   "cell_type": "markdown",
   "id": "KATSn7hYlA_Z",
   "metadata": {
    "id": "KATSn7hYlA_Z"
   },
   "source": [
    "### Evaluate Models\n",
    "* Evaluate the performance of the four models with two metrics, including MSE and Root MSE\n",
    "* Print the results of the four models regarding the two metrics"
   ]
  },
  {
   "cell_type": "code",
   "execution_count": 34,
   "id": "4fU8GPS9lA_Z",
   "metadata": {
    "id": "4fU8GPS9lA_Z"
   },
   "outputs": [
    {
     "name": "stdout",
     "output_type": "stream",
     "text": [
      "Model-a (Case 1 with two most correlated features) MSE: 1.776581354691434 RMSE: 1.3328845991650717\n",
      "Model-b (Case 1 with two least correlated features) MSE: 1.860535990321889 RMSE: 1.3640146591301316\n",
      "Model-c (Case 2 with two most correlated features) MSE: 1.681992500504392 RMSE: 1.2969165356739007\n",
      "Model-d (Case 2 with two least correlated features) MSE: 1.7245375467700426 RMSE: 1.3132164889194937\n"
     ]
    }
   ],
   "source": [
    "import numpy as np\n",
    "\n",
    "# Calculate MSE for each model\n",
    "mse_a = mean_squared_error(y_test_case1, y_pred_a)\n",
    "mse_b = mean_squared_error(y_test_case1, y_pred_b)\n",
    "mse_c = mean_squared_error(y_test_case2, y_pred_c)\n",
    "mse_d = mean_squared_error(y_test_case2, y_pred_d)\n",
    "\n",
    "# Calculate RMSE for each model\n",
    "rmse_a = np.sqrt(mse_a)\n",
    "rmse_b = np.sqrt(mse_b)\n",
    "rmse_c = np.sqrt(mse_c)\n",
    "rmse_d = np.sqrt(mse_d)\n",
    "\n",
    "# Print the results\n",
    "print(\"Model-a (Case 1 with two most correlated features) MSE:\", mse_a, \"RMSE:\", rmse_a)\n",
    "print(\"Model-b (Case 1 with two least correlated features) MSE:\", mse_b, \"RMSE:\", rmse_b)\n",
    "print(\"Model-c (Case 2 with two most correlated features) MSE:\", mse_c, \"RMSE:\", rmse_c)\n",
    "print(\"Model-d (Case 2 with two least correlated features) MSE:\", mse_d, \"RMSE:\", rmse_d)\n"
   ]
  },
  {
   "cell_type": "markdown",
   "id": "Y9jx-eY6lA_a",
   "metadata": {
    "id": "Y9jx-eY6lA_a"
   },
   "source": [
    "### Visualize, Compare and Analyze the Results\n",
    "* Visulize the results, and perform ___insightful analysis___ on the obtained results. For better visualization, you may need to carefully set the scale for the y-axis.\n",
    "* Normally, the model trained with most correlated features and more training data will get better results. Do you obtain the similar observations? If not, please ___explain the possible reasons___."
   ]
  },
  {
   "cell_type": "code",
   "execution_count": 35,
   "id": "3TNAIGDilA_a",
   "metadata": {
    "id": "3TNAIGDilA_a"
   },
   "outputs": [
    {
     "data": {
      "image/png": "[encoded data removed]",
      "text/plain": [
       "<Figure size 720x432 with 2 Axes>"
      ]
     },
     "metadata": {
      "needs_background": "light"
     },
     "output_type": "display_data"
    }
   ],
   "source": [
    "import matplotlib.pyplot as plt\n",
    "\n",
    "# Define model labels\n",
    "model_labels = ['Model-a', 'Model-b', 'Model-c', 'Model-d']\n",
    "\n",
    "# Define MSE and RMSE values\n",
    "mse_values = [mse_a, mse_b, mse_c, mse_d]\n",
    "rmse_values = [rmse_a, rmse_b, rmse_c, rmse_d]\n",
    "\n",
    "# Create bar plots for MSE and RMSE\n",
    "plt.figure(figsize=(10, 6))\n",
    "\n",
    "plt.subplot(1, 2, 1)\n",
    "plt.bar(model_labels, mse_values, color=['blue', 'green', 'red', 'orange'])\n",
    "plt.title('Mean Squared Error (MSE)')\n",
    "plt.ylabel('MSE')\n",
    "plt.ylim(0, max(mse_values) * 1.2)\n",
    "\n",
    "plt.subplot(1, 2, 2)\n",
    "plt.bar(model_labels, rmse_values, color=['blue', 'green', 'red', 'orange'])\n",
    "plt.title('Root Mean Squared Error (RMSE)')\n",
    "plt.ylabel('RMSE')\n",
    "plt.ylim(0, max(rmse_values) * 1.2)\n",
    "\n",
    "plt.tight_layout()\n",
    "plt.show()\n"
   ]
  },
  {
   "cell_type": "markdown",
   "id": "9f80335b",
   "metadata": {},
   "source": [
    "<b>As expected, the model trained with the most correlated features (model-a and model-c) tends to have lower MSE and RMSE values compared to the models trained with the least correlated features (model-b and model-d).</b>\n",
    "\n",
    "<b>The results obtained are quiet shocking due to following reasons:</b>\n",
    "   <ul><li> The dataset might not be large enough to benefit significantly from additional training data.</li>\n",
    "<li>The selected features might not capture all the relevant information necessary for accurate prediction, leading to limited improvement with more training data.</li>\n",
    "<li>The relationship between the features and the target variable might not be linear, making linear regression less effective, regardless of the amount of training data.</li></ul>"
   ]
  },
  {
   "cell_type": "markdown",
   "id": "f9ee01ac",
   "metadata": {
    "id": "f9ee01ac"
   },
   "source": [
    "### Data Science Ethics\n",
    "*Please read the following examples [Click here to read the example_1.](https://www.vox.com/covid-19-coronavirus-us-response-trump/2020/5/18/21262265/georgia-covid-19-cases-declining-reopening) [Click here to read the example_2.](https://viborc.com/ethics-and-ethical-data-visualization-a-complete-guide/)\n",
    "\n",
    "*Then view the picture ![My Image](figure_portfolio2.png \"This is my image\")\n",
    "Please compose an analysis of 100-200 words that evaluates potential ethical concerns associated with the infographic, detailing the reasons behind these issues.\n"
   ]
  },
  {
   "cell_type": "markdown",
   "id": "8993bfce",
   "metadata": {
    "id": "44f30e9b"
   },
   "source": [
    "<b>The ethical implications of data manipulation, transparency, and potential biases are raised by the COVID-19 infographic about Georgia. The graph, which involves backdating positive test results, changing scales, and combining tests, has the potential to mislead the public and hinder informed decision-making. To address these concerns, it is essential to maintain transparency, establish clear data presentation policies, and acknowledge potential biases in data collection.</b>\n",
    "\n",
    "\n",
    "<b>The infographic regarding ethics and ethical data visualization is informative, but it raises certain ethical concerns. It oversimplifies intricate ethical principles, lacks an ethical framework that is universally applicable, does not account for the implications of privacy and consent, and does not consider the diversity of culture or language. To address these concerns, the guide should delve into more nuanced discussions, emphasize contextual knowledge, feature a section on privacy and data consent, and consider diversity in data visualization. </b>\n"
   ]
  }
 ],
 "metadata": {
  "colab": {
   "provenance": []
  },
  "kernelspec": {
   "display_name": "Python 3 (ipykernel)",
   "language": "python",
   "name": "python3"
  },
  "language_info": {
   "codemirror_mode": {
    "name": "ipython",
    "version": 3
   },
   "file_extension": ".py",
   "mimetype": "text/x-python",
   "name": "python",
   "nbconvert_exporter": "python",
   "pygments_lexer": "ipython3",
   "version": "3.9.7"
  }
 },
 "nbformat": 4,
 "nbformat_minor": 5
}
